{
 "cells": [
  {
   "cell_type": "code",
   "execution_count": 1,
   "id": "c758d090",
   "metadata": {},
   "outputs": [],
   "source": [
    "import os, shutil"
   ]
  },
  {
   "cell_type": "code",
   "execution_count": 2,
   "id": "4a543494",
   "metadata": {},
   "outputs": [
    {
     "name": "stdout",
     "output_type": "stream",
     "text": [
      "[]\n"
     ]
    }
   ],
   "source": [
    "folder = \"/Users/pauline/Documents/Kunsthistorisches-UZH_Archivdatenbank/Images\"\n",
    "files_list = []\n",
    "print(files_list)"
   ]
  },
  {
   "cell_type": "code",
   "execution_count": 3,
   "id": "89612361",
   "metadata": {},
   "outputs": [],
   "source": [
    "for root, directories, files in os.walk(folder):\n",
    "    for file in files:\n",
    "        if file.endswith('.jpg'):\n",
    "            label, ext = os.path.splitext(file) \n",
    "            first_folderpage = \"/Users/pauline/Documents/Kunsthistorisches-UZH_Archivdatenbank/first_folderpage\"\n",
    "            illustrations_pages = \"/Users/pauline/Documents/Kunsthistorisches-UZH_Archivdatenbank/illustrations_pages\"\n",
    "            if not os.path.isdir(first_folderpage):\n",
    "                os.mkdir(first_folderpage)\n",
    "            if not os.path.isdir(illustrations_pages):\n",
    "                os.mkdir(illustrations_pages)\n",
    "            if label.endswith(\"000\"):\n",
    "                shutil.copy(os.path.join(root, file), first_folderpage)\n",
    "            if label.endswith(\"R\"):\n",
    "                shutil.copy(os.path.join(root, file), illustrations_pages)"
   ]
  },
  {
   "cell_type": "code",
   "execution_count": null,
   "id": "dead04c6",
   "metadata": {},
   "outputs": [],
   "source": []
  }
 ],
 "metadata": {
  "kernelspec": {
   "display_name": "Python 3 (ipykernel)",
   "language": "python",
   "name": "python3"
  },
  "language_info": {
   "codemirror_mode": {
    "name": "ipython",
    "version": 3
   },
   "file_extension": ".py",
   "mimetype": "text/x-python",
   "name": "python",
   "nbconvert_exporter": "python",
   "pygments_lexer": "ipython3",
   "version": "3.9.12"
  }
 },
 "nbformat": 4,
 "nbformat_minor": 5
}
